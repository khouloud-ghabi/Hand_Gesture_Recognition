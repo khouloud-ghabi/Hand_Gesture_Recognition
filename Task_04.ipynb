{
  "nbformat": 4,
  "nbformat_minor": 0,
  "metadata": {
    "colab": {
      "provenance": []
    },
    "kernelspec": {
      "name": "python3",
      "display_name": "Python 3"
    },
    "language_info": {
      "name": "python"
    }
  },
  "cells": [
    {
      "cell_type": "code",
      "execution_count": null,
      "metadata": {
        "id": "xe0j_pdpRJSe"
      },
      "outputs": [],
      "source": [
        "import warnings\n",
        "warnings.filterwarnings('ignore')\n",
        "\n",
        "import keras\n",
        "import matplotlib.pyplot as plt\n",
        "import os\n",
        "import cv2\n",
        "import numpy as np\n",
        "import pandas as pd\n",
        "from keras.layers import Conv2D, Activation, MaxPool2D, Dense, Flatten, Dropout\n",
        "import os\n",
        "for dirname, _, filenames in os.walk('/kaggle/input'):\n",
        "    for filename in filenames:\n",
        "        os.path.join(dirname, filename)"
      ]
    },
    {
      "cell_type": "code",
      "source": [
        "CATEGORIES = [\"01_palm\", '02_l','03_fist','04_fist_moved','05_thumb','06_index','07_ok','08_palm_moved','09_c','10_down']\n",
        "IMG_SIZE = 50\n",
        "\n",
        "data_path = \"../input/leapgestrecog/leapGestRecog\""
      ],
      "metadata": {
        "id": "xd0pHTtZRJ9w"
      },
      "execution_count": null,
      "outputs": []
    },
    {
      "cell_type": "code",
      "source": [
        "image_data = []\n",
        "for dr in os.listdir(data_path):\n",
        "    for category in CATEGORIES:\n",
        "        class_index = CATEGORIES.index(category)\n",
        "        path = os.path.join(data_path, dr, category)\n",
        "        for img in os.listdir(path):\n",
        "            try:\n",
        "                img_arr = cv2.imread(os.path.join(path, img), cv2.IMREAD_GRAYSCALE)\n",
        "                image_data.append([cv2.resize(img_arr, (IMG_SIZE, IMG_SIZE)), class_index])\n",
        "            except Exception as e:\n",
        "                pass\n",
        "image_data[0]"
      ],
      "metadata": {
        "id": "6PdDSPf1RKAg"
      },
      "execution_count": null,
      "outputs": []
    },
    {
      "cell_type": "code",
      "source": [
        "import random\n",
        "random.shuffle(image_data)"
      ],
      "metadata": {
        "id": "YXOj0_pDRKDQ"
      },
      "execution_count": null,
      "outputs": []
    },
    {
      "cell_type": "code",
      "source": [
        "input_data = []\n",
        "label = []\n",
        "for X, y in image_data:\n",
        "    input_data.append(X)\n",
        "    label.append(y)"
      ],
      "metadata": {
        "id": "SYdNTMCRRKFu"
      },
      "execution_count": null,
      "outputs": []
    },
    {
      "cell_type": "code",
      "source": [
        "label[:10]"
      ],
      "metadata": {
        "id": "AIC-y-2pRKJ2"
      },
      "execution_count": null,
      "outputs": []
    },
    {
      "cell_type": "code",
      "source": [
        "plt.figure(1, figsize=(10,10))\n",
        "for i in range(1,10):\n",
        "    plt.subplot(3,3,i)\n",
        "    plt.imshow(image_data[i][0], cmap='gray')\n",
        "    plt.xticks([])\n",
        "    plt.yticks([])\n",
        "    plt.title(CATEGORIES[label[i]][3:])\n",
        "plt.show()"
      ],
      "metadata": {
        "id": "RJPvFHw_RKOE"
      },
      "execution_count": null,
      "outputs": []
    },
    {
      "cell_type": "code",
      "source": [
        "input_data = np.array(input_data)\n",
        "label = np.array(label)\n",
        "input_data = input_data/255.0\n",
        "input_data.shape"
      ],
      "metadata": {
        "id": "0afCiFWLRKRi"
      },
      "execution_count": null,
      "outputs": []
    },
    {
      "cell_type": "code",
      "source": [
        "import keras\n",
        "from keras.utils import to_categorical\n",
        "label = to_categorical(label)"
      ],
      "metadata": {
        "id": "hE4sd44WRpuU"
      },
      "execution_count": null,
      "outputs": []
    },
    {
      "cell_type": "code",
      "source": [
        "input_data.shape = (-1, IMG_SIZE, IMG_SIZE, 1)"
      ],
      "metadata": {
        "id": "VGklaxHlRrxs"
      },
      "execution_count": null,
      "outputs": []
    },
    {
      "cell_type": "code",
      "source": [
        "from sklearn.model_selection import train_test_split\n",
        "X_train, X_test, y_train, y_test = train_test_split(input_data, label,test_size=0.2, random_state=42, shuffle=True)"
      ],
      "metadata": {
        "id": "3kTiv29LRr4b"
      },
      "execution_count": null,
      "outputs": []
    },
    {
      "cell_type": "code",
      "source": [
        "print(X_train.shape)\n",
        "print(X_test.shape)\n",
        "print(y_train.shape)\n",
        "print(y_test.shape)"
      ],
      "metadata": {
        "id": "T6SsgGugRwTm"
      },
      "execution_count": null,
      "outputs": []
    },
    {
      "cell_type": "code",
      "source": [
        "model = keras.models.Sequential()\n",
        "\n",
        "model.add(Conv2D(filters = 42, kernel_size = (4,4), input_shape = (IMG_SIZE, IMG_SIZE, 1)))\n",
        "model.add(Activation('relu'))\n",
        "\n",
        "\n",
        "model.add(Conv2D(filters = 42, kernel_size = (4,4)))\n",
        "model.add(Activation('relu'))\n",
        "model.add(MaxPool2D(pool_size=(2,2)))\n",
        "model.add(Dropout(0.4))\n",
        "\n",
        "model.add(Flatten())\n",
        "model.add(Dense(256, activation='relu'))\n",
        "model.add(Dense(10, activation='softmax'))\n",
        "\n",
        "model.compile(loss='categorical_crossentropy',\n",
        "             optimizer = 'rmsprop',\n",
        "             metrics = ['accuracy'])"
      ],
      "metadata": {
        "id": "yrp9m_YdRwXG"
      },
      "execution_count": null,
      "outputs": []
    },
    {
      "cell_type": "code",
      "source": [
        "history = model.fit(X_train, y_train, epochs =4, batch_size=32, validation_data=(X_test, y_test))"
      ],
      "metadata": {
        "id": "fhPKoF-SRwaG"
      },
      "execution_count": null,
      "outputs": []
    },
    {
      "cell_type": "code",
      "source": [
        "model.summary()"
      ],
      "metadata": {
        "id": "bMgwAPaxRwda"
      },
      "execution_count": null,
      "outputs": []
    },
    {
      "cell_type": "code",
      "source": [
        "plt.plot(model.history.history['accuracy'])\n",
        "plt.plot(model.history.history['val_accuracy'])\n",
        "plt.title('Model Accuracy')\n",
        "plt.ylabel('Accuracy')\n",
        "plt.xlabel('Epochs')\n",
        "plt.legend(['train', 'test'])\n",
        "plt.show()"
      ],
      "metadata": {
        "id": "DaWHCGBNRr69"
      },
      "execution_count": null,
      "outputs": []
    },
    {
      "cell_type": "code",
      "source": [
        "train_acc = history.history['accuracy']\n",
        "train_loss = history.history['loss']\n",
        "\n",
        "val_acc = history.history['val_accuracy']\n",
        "val_loss = history.history['val_loss']\n",
        "\n",
        "index_loss = np.argmin(val_loss)\n",
        "index_acc = np.argmax(val_acc)\n",
        "\n",
        "val_lowest = val_loss[index_loss]\n",
        "val_highest = val_acc[index_acc]\n",
        "\n",
        "Epochs = [i+1 for i in range(len(train_acc))]\n",
        "\n",
        "loss_label = f'Best Epoch = {str(index_loss + 1)}'\n",
        "acc_label = f'Best Epoch = {str(index_acc + 1)}'\n",
        "\n",
        "plt.figure(figsize= (20,8))\n",
        "plt.style.use('fivethirtyeight')\n",
        "\n",
        "plt.subplot(1,2,1)\n",
        "plt.plot(Epochs , train_loss , 'r', label = 'Training Loss')\n",
        "plt.plot(Epochs , val_loss , 'g' , label = 'Validation Loss')\n",
        "plt.scatter(index_loss +1 , val_lowest , s = 140 , c = 'blue' , label = loss_label)\n",
        "plt.title('Training vs Validation (loss)')\n",
        "plt.xlabel('Epochs')\n",
        "plt.ylabel('Loss')\n",
        "plt.legend()\n",
        "\n",
        "plt.subplot(1,2,2)\n",
        "plt.plot(Epochs , train_acc , 'r', label= 'Training Accuracy')\n",
        "plt.plot(Epochs , val_acc , 'g' , label = 'Validation Accuracy')\n",
        "plt.scatter(index_acc + 1 , val_highest , s= 140 , c = 'blue' , label= acc_label)\n",
        "plt.title('Training vs Validation (Accuracy)')\n",
        "plt.xlabel('Epochs')\n",
        "plt.ylabel('Accuracy')\n",
        "plt.legend()\n",
        "\n",
        "plt.tight_layout\n",
        "plt.show();"
      ],
      "metadata": {
        "id": "Jnib2ianR9sC"
      },
      "execution_count": null,
      "outputs": []
    },
    {
      "cell_type": "code",
      "source": [
        "test_loss, test_accuracy = model.evaluate(X_test, y_test)\n",
        "print('Test accuracy: {:2.2f}%'.format(test_accuracy*100))"
      ],
      "metadata": {
        "id": "EqJ3QZ8qR924"
      },
      "execution_count": null,
      "outputs": []
    }
  ]
}